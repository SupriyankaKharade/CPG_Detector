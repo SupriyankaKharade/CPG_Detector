{
  "cells": [
    {
      "cell_type": "markdown",
      "metadata": {
        "id": "G4T6QHHOnfcQ"
      },
      "source": [
        "# Part 1: Build CpG Detector\n",
        "\n",
        "Here we have a simple problem, given a DNA sequence (of N, A, C, G, T), count the number of CpGs in the sequence (consecutive CGs).\n",
        "\n",
        "We have defined a few helper functions / parameters for performing this task.\n",
        "\n",
        "We need you to build a LSTM model and train it to complish this task in PyTorch.\n",
        "\n",
        "A good solution will be a model that can be trained, with high confidence in correctness.\n",
        "Project Name: CpG Detector\n",
        "Description:\n",
        "The project requires you to build a neural network to count the number of CpGs (consecutive\n",
        "CGs) in given DNA (of N, A, C, G, T) sequences.\n",
        "Example, given “NCACANNTNCGGAGGCGNA”, the corrected output should be 2.\n",
        "Requirement:\n",
        "1. You need to build a LSTM-based solution using PyTorch. (Hint: why we require to\n",
        "solve with LSTM)\n",
        "2. You can test different settings (model architecture / loss functions / hyper-parameters)\n",
        "along with the parameters already provided in the material (jupyter notebook we\n",
        "provided) to optimize your solution. (we would like to see how you think through this\n",
        "process)\n",
        "3. You can use any tools like google search / stackoverflow / even chatGPT, but you\n",
        "have to show us how you use them to help you finish the task.\n",
        "Task:\n",
        "We will provide a jupyter notebook with some code implemented (not complete and may have\n",
        "bugs), you need to complete the task based on the requirement, make the model running,\n",
        "perform a simple evaluation, and demo your results (build a simple web app).\n",
        "1. You need to prepare a web app (using streamlit or flask) to allow us to test your\n",
        "model. Basically, you will expect we give you an input and your app (model+UI) can\n",
        "give a proper model output. For example, you can have an input window where we\n",
        "ask you to input a string like “NCACANNTNCGGAGGCGNA”, then you can have an\n",
        "output where you show us the outputs from the model (your model outputs could be\n",
        "1.96 or 2.04 and we would like you to show us the raw outputs).\n",
        "2. You need to send back the code (only the jupyter notebook) with the outputs that you\n",
        "think are valuable for the team.\n",
        "3. Be prepared on how you approach it. We are not interested in how good the model\n",
        "you build but how you think of the problem and how you solve it with a proper method."
      ]
    },
    {
      "cell_type": "code",
      "execution_count": 3,
      "metadata": {
        "id": "mfS4cLmZD2oB"
      },
      "outputs": [],
      "source": [
        "from typing import Sequence\n",
        "from functools import partial\n",
        "import random\n",
        "import torch\n",
        "import torch.nn as nn\n",
        "import torch.optim as optim\n",
        "import torch.nn.functional as F\n",
        "from torch.utils.data import DataLoader, TensorDataset\n",
        "import numpy as np"
      ]
    },
    {
      "cell_type": "code",
      "execution_count": 4,
      "metadata": {
        "id": "_f-brPAvKvTn"
      },
      "outputs": [],
      "source": [
        "# DO NOT CHANGE HERE\n",
        "def set_seed(seed=13):\n",
        "    random.seed(seed)\n",
        "    np.random.seed(seed)\n",
        "    torch.manual_seed(seed)\n",
        "    if torch.cuda.is_available():\n",
        "        torch.cuda.manual_seed_all(seed)\n",
        "\n",
        "set_seed(13)\n",
        "\n",
        "# Use this for getting x label\n",
        "def rand_sequence(n_seqs: int, seq_len: int=128) -> Sequence[int]:\n",
        "    for i in range(n_seqs):\n",
        "        yield [random.randint(0, 4) for _ in range(seq_len)]\n",
        "\n",
        "# Use this for getting y label\n",
        "def count_cpgs(seq: str) -> int:\n",
        "    cgs = 0\n",
        "    for i in range(0, len(seq) - 1):\n",
        "        dimer = seq[i:i+2]\n",
        "        # note that seq is a string, not a list\n",
        "        if dimer == \"CG\":\n",
        "            cgs += 1\n",
        "    return cgs\n",
        "\n",
        "# Alphabet helpers\n",
        "alphabet = 'NACGT'\n",
        "dna2int = { a: i for a, i in zip(alphabet, range(5))}\n",
        "int2dna = { i: a for a, i in zip(alphabet, range(5))}\n",
        "\n",
        "intseq_to_dnaseq = partial(map, int2dna.get)\n",
        "dnaseq_to_intseq = partial(map, dna2int.get)"
      ]
    },
    {
      "cell_type": "code",
      "execution_count": 5,
      "metadata": {
        "id": "VK9Qg5GHYxOb"
      },
      "outputs": [],
      "source": [
        "# we prepared two datasets for training and evaluation\n",
        "# training data scale we set to 2048\n",
        "# we test on 512\n",
        "\n",
        "def prepare_data(num_samples=100):\n",
        "    # prepared the training and test data\n",
        "    # you need to call rand_sequence and count_cpgs here to create the dataset\n",
        "    # step 1\n",
        "    X_dna_seqs_train = list(rand_sequence(num_samples))\n",
        "    \"\"\"\n",
        "    hint:\n",
        "        1. You can check X_dna_seqs_train by print, the data is ids which is your training X\n",
        "        2. You first convert ids back to DNA sequence\n",
        "        3. Then you run count_cpgs which will yield CGs counts - this will be the labels (Y)\n",
        "    \"\"\"\n",
        "    #step2\n",
        "    temp = [''.join(intseq_to_dnaseq(seq)) for seq in X_dna_seqs_train] #??? use intseq_to_dnaseq here to convert ids back to DNA seqs\n",
        "    #step3\n",
        "    y_dna_seqs = [count_cpgs(seq) for seq in temp] #??? use count_cpgs here to generate labels with temp generated in step2\n",
        "\n",
        "    return X_dna_seqs_train, y_dna_seqs\n",
        "\n",
        "train_x, train_y = prepare_data(2048)\n",
        "test_x, test_y = prepare_data(512)"
      ]
    },
    {
      "cell_type": "code",
      "execution_count": 6,
      "metadata": {
        "id": "Z9vhk3JzL_ck"
      },
      "outputs": [],
      "source": [
        "# some config\n",
        "LSTM_HIDDEN = 50 #???\n",
        "LSTM_LAYER = 2 #???\n",
        "batch_size = 64 #???\n",
        "learning_rate = 0.001 #???\n",
        "epoch_num = 20 #???"
      ]
    },
    {
      "cell_type": "code",
      "source": [
        "\n",
        "def one_hot_encode(sequence, num_classes=5):\n",
        "    # Convert the sequence to a tensor\n",
        "    sequence_tensor = torch.tensor(sequence, dtype=torch.long)\n",
        "    # One-hot encode the sequence\n",
        "    one_hot = F.one_hot(sequence_tensor, num_classes=num_classes)\n",
        "    return one_hot.float()\n",
        "\n",
        "# Apply one-hot encoding to your datasets\n",
        "train_x_one_hot = [one_hot_encode(seq) for seq in train_x]\n",
        "test_x_one_hot = [one_hot_encode(seq) for seq in test_x]\n",
        "\n",
        "# Convert list of one-hot encoded tensors to a single tensor\n",
        "train_x_tensor = torch.stack(train_x_one_hot)\n",
        "test_x_tensor = torch.stack(test_x_one_hot)\n",
        "\n",
        "\n",
        "# Assuming train_y and test_y are lists of labels (counts of CpG sites)\n",
        "# Convert the list of labels to PyTorch tensors\n",
        "train_y_tensor = torch.tensor(train_y, dtype=torch.float32).view(-1, 1)\n",
        "test_y_tensor = torch.tensor(test_y, dtype=torch.float32).view(-1, 1)\n",
        "\n",
        "# Create TensorDataset objects with one-hot encoded data\n",
        "train_dataset = TensorDataset(train_x_tensor, train_y_tensor)\n",
        "test_dataset = TensorDataset(test_x_tensor, test_y_tensor)\n",
        "\n",
        "# Create DataLoader objects\n",
        "train_data_loader = DataLoader(train_dataset, batch_size=batch_size, shuffle=True)\n",
        "test_data_loader = DataLoader(test_dataset, batch_size=batch_size, shuffle=False)"
      ],
      "metadata": {
        "id": "yAwjt8zqhgtY"
      },
      "execution_count": 7,
      "outputs": []
    },
    {
      "cell_type": "markdown",
      "source": [],
      "metadata": {
        "id": "JjVKxkEAX_Xl"
      }
    },
    {
      "cell_type": "code",
      "source": [],
      "metadata": {
        "id": "Nd5bNBxXX_8V"
      },
      "execution_count": null,
      "outputs": []
    },
    {
      "cell_type": "code",
      "execution_count": 8,
      "metadata": {
        "id": "q8fgxrM0LnLy"
      },
      "outputs": [],
      "source": [
        "from logging import lastResort\n",
        "# Model\n",
        "class CpGPredictor(nn.Module):\n",
        "    ''' Simple model that uses a LSTM to count the number of CpGs in a sequence '''\n",
        "    def __init__(self,input_size=5, hidden_size=50, num_layers=2, output_size=1):\n",
        "        super(CpGPredictor, self).__init__()\n",
        "        # TODO complete model, you are free to add whatever layers you need here\n",
        "        # We do need a lstm and a classifier layer here but you are free to implement them in your way\n",
        "        self.lstm = nn.LSTM(input_size=input_size, hidden_size=hidden_size, num_layers=num_layers, batch_first=True)\n",
        "        self.classifier = nn.Linear(hidden_size, output_size)\n",
        "\n",
        "    def forward(self, x):\n",
        "        # TODO complete forward function\n",
        "        lstm_out, _ = self.lstm(x)\n",
        "        # Extract the last time step's output\n",
        "        last_output = lstm_out[:, -1, :]\n",
        "        logits = self.classifier(last_output)\n",
        "        return logits"
      ]
    },
    {
      "cell_type": "code",
      "execution_count": 9,
      "metadata": {
        "id": "vSV5WSuvL_cl"
      },
      "outputs": [],
      "source": [
        "# init model / loss function / optimizer etc.\n",
        "model = CpGPredictor()\n",
        "loss_fn = nn.MSELoss() #???\n",
        "optimizer = optim.Adam(model.parameters(), lr=learning_rate) #???"
      ]
    },
    {
      "cell_type": "code",
      "execution_count": 10,
      "metadata": {
        "colab": {
          "base_uri": "https://localhost:8080/"
        },
        "id": "cld5CW0jL_cm",
        "outputId": "3aeed985-b8de-483b-f0a0-62480b505d98"
      },
      "outputs": [
        {
          "output_type": "stream",
          "name": "stdout",
          "text": [
            "Epoch 1/20, Loss: 21.6772\n",
            "693.6719260215759\n",
            "Epoch 2/20, Loss: 5.0923\n",
            "162.9524540901184\n",
            "Epoch 3/20, Loss: 4.2151\n",
            "134.88455367088318\n",
            "Epoch 4/20, Loss: 4.1957\n",
            "134.26206064224243\n",
            "Epoch 5/20, Loss: 4.1953\n",
            "134.2491946220398\n",
            "Epoch 6/20, Loss: 4.1967\n",
            "134.29592561721802\n",
            "Epoch 7/20, Loss: 4.2061\n",
            "134.59453225135803\n",
            "Epoch 8/20, Loss: 4.1931\n",
            "134.17864537239075\n",
            "Epoch 9/20, Loss: 4.1991\n",
            "134.372323513031\n",
            "Epoch 10/20, Loss: 4.1999\n",
            "134.3957073688507\n",
            "Epoch 11/20, Loss: 4.1960\n",
            "134.27229642868042\n",
            "Epoch 12/20, Loss: 4.1969\n",
            "134.29972124099731\n",
            "Epoch 13/20, Loss: 4.1954\n",
            "134.25291681289673\n",
            "Epoch 14/20, Loss: 4.1963\n",
            "134.28156185150146\n",
            "Epoch 15/20, Loss: 4.1988\n",
            "134.36114692687988\n",
            "Epoch 16/20, Loss: 4.1960\n",
            "134.27130436897278\n",
            "Epoch 17/20, Loss: 4.1989\n",
            "134.36527180671692\n",
            "Epoch 18/20, Loss: 4.1954\n",
            "134.25135922431946\n",
            "Epoch 19/20, Loss: 4.1940\n",
            "134.207111120224\n",
            "Epoch 20/20, Loss: 4.1953\n",
            "134.2491180896759\n"
          ]
        }
      ],
      "source": [
        "# training (you can modify the code below)\n",
        "t_loss = 0.0\n",
        "model.train()\n",
        "model.zero_grad()\n",
        "\n",
        "for epoch in range(epoch_num):\n",
        "    for batch in train_data_loader:\n",
        "        # Unpack the batch\n",
        "        inputs, labels = batch\n",
        "\n",
        "        # Forward pass: Compute predicted y by passing x to the model\n",
        "        outputs = model(inputs)\n",
        "\n",
        "        # Compute the loss\n",
        "        loss = loss_fn(outputs, labels)\n",
        "\n",
        "        # Zero gradients, perform a backward pass, and update the weights\n",
        "        optimizer.zero_grad()\n",
        "        loss.backward()\n",
        "        optimizer.step()\n",
        "\n",
        "        # Accumulate the loss\n",
        "        t_loss += loss.item()\n",
        "\n",
        "    # Print the average loss for this epoch\n",
        "    print(f'Epoch {epoch+1}/{epoch_num}, Loss: {t_loss/len(train_data_loader):.4f}')\n",
        "    print(t_loss)\n",
        "    t_loss = 0.0 # Reset the loss for the next epoch"
      ]
    },
    {
      "cell_type": "code",
      "source": [],
      "metadata": {
        "id": "4U3HI4akjQ5A"
      },
      "execution_count": null,
      "outputs": []
    },
    {
      "cell_type": "code",
      "source": [
        "# Set the model to evaluation mode\n",
        "model.eval()\n",
        "\n",
        "# Lists to store ground truth and predictions\n",
        "res_gs = []\n",
        "res_pred = []\n",
        "\n",
        "# Disable gradient computation for evaluation\n",
        "with torch.no_grad():\n",
        "    for batch in test_data_loader:\n",
        "        # Unpack the batch\n",
        "        inputs, labels = batch\n",
        "\n",
        "        # Forward pass: Compute predicted y by passing x to the model\n",
        "        outputs = model(inputs)\n",
        "\n",
        "        # Store the ground truth and predictions\n",
        "        res_gs.extend(labels.numpy().flatten())  # Flatten to ensure it's a 1D list\n",
        "        res_pred.extend(outputs.numpy().flatten())  # Flatten to ensure it's a 1D list\n",
        "\n",
        "# Convert results to numpy arrays for further analysis if needed\n",
        "res_gs = np.array(res_gs)\n",
        "res_pred = np.array(res_pred)\n",
        "\n",
        "# Optionally, calculate metrics such as Mean Squared Error\n",
        "mse = np.mean((res_gs - res_pred) ** 2)\n",
        "print(f'Mean Squared Error: {mse:.4f}')"
      ],
      "metadata": {
        "colab": {
          "base_uri": "https://localhost:8080/"
        },
        "id": "oa1PYTGbiTyi",
        "outputId": "a3e3edd2-899f-4cf2-a9d8-4f879636f735"
      },
      "execution_count": 11,
      "outputs": [
        {
          "output_type": "stream",
          "name": "stdout",
          "text": [
            "Mean Squared Error: 4.1576\n"
          ]
        }
      ]
    },
    {
      "cell_type": "code",
      "execution_count": 12,
      "metadata": {
        "colab": {
          "base_uri": "https://localhost:8080/",
          "height": 615
        },
        "id": "JFuAb5o5L_cm",
        "outputId": "980b5c56-3a22-480b-deb0-92b330312547"
      },
      "outputs": [
        {
          "output_type": "stream",
          "name": "stdout",
          "text": [
            "Mean Absolute Error: 1.5880\n"
          ]
        },
        {
          "output_type": "display_data",
          "data": {
            "text/plain": [
              "<Figure size 1000x600 with 1 Axes>"
            ],
            "image/png": "[encoded data removed]"
          },
          "metadata": {}
        },
        {
          "output_type": "stream",
          "name": "stdout",
          "text": [
            "Maximum Error: 6.9354\n",
            "Minimum Error: -5.0648\n"
          ]
        }
      ],
      "source": [
        "# TODO complete evaluation of the model\n",
        "import matplotlib.pyplot as plt\n",
        "\n",
        "# Calculate additional metrics\n",
        "mae = np.mean(np.abs(res_gs - res_pred))\n",
        "print(f'Mean Absolute Error: {mae:.4f}')\n",
        "\n",
        "# Plot predicted vs. actual CpG counts\n",
        "plt.figure(figsize=(10, 6))\n",
        "plt.scatter(res_gs, res_pred, alpha=0.5)\n",
        "plt.plot([res_gs.min(), res_gs.max()], [res_gs.min(), res_gs.max()], 'k--', lw=2)\n",
        "plt.xlabel('Actual CpG Counts')\n",
        "plt.ylabel('Predicted CpG Counts')\n",
        "plt.title('Predicted vs. Actual CpG Counts')\n",
        "plt.show()\n",
        "\n",
        "# Analyze errors\n",
        "errors = res_gs - res_pred\n",
        "print(f'Maximum Error: {errors.max():.4f}')\n",
        "print(f'Minimum Error: {errors.min():.4f}')"
      ]
    },
    {
      "cell_type": "code",
      "source": [
        "\n",
        "torch.save(model.state_dict(), 'cpg_detector_model.pth')\n"
      ],
      "metadata": {
        "id": "C7X-qF11MHNZ"
      },
      "execution_count": 13,
      "outputs": []
    }
  ],
  "metadata": {
    "colab": {
      "provenance": [],
      "toc_visible": true
    },
    "kernelspec": {
      "display_name": "Python 3 (ipykernel)",
      "language": "python",
      "name": "python3"
    },
    "language_info": {
      "codemirror_mode": {
        "name": "ipython",
        "version": 3
      },
      "file_extension": ".py",
      "mimetype": "text/x-python",
      "name": "python",
      "nbconvert_exporter": "python",
      "pygments_lexer": "ipython3",
      "version": "3.10.10"
    }
  },
  "nbformat": 4,
  "nbformat_minor": 0
}
